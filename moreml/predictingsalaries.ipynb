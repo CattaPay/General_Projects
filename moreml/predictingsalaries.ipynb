{
 "cells": [
  {
   "cell_type": "code",
   "execution_count": 2,
   "metadata": {},
   "outputs": [],
   "source": [
    "import tensorflow as tf\n",
    "from tensorflow import keras\n",
    "from tensorflow.keras import layers"
   ]
  },
  {
   "cell_type": "code",
   "execution_count": 68,
   "metadata": {},
   "outputs": [],
   "source": [
    "import pandas as pd"
   ]
  },
  {
   "cell_type": "code",
   "execution_count": 69,
   "metadata": {},
   "outputs": [],
   "source": [
    "dat = pd.read_csv(\"ds_salaries.csv\")"
   ]
  },
  {
   "cell_type": "code",
   "execution_count": 70,
   "metadata": {},
   "outputs": [
    {
     "name": "stdout",
     "output_type": "stream",
     "text": [
      "Index(['Unnamed: 0', 'work_year', 'experience_level', 'employment_type',\n",
      "       'job_title', 'salary', 'salary_currency', 'salary_in_usd',\n",
      "       'employee_residence', 'remote_ratio', 'company_location',\n",
      "       'company_size'],\n",
      "      dtype='object')\n"
     ]
    }
   ],
   "source": [
    "print(dat.columns)"
   ]
  },
  {
   "cell_type": "code",
   "execution_count": 71,
   "metadata": {},
   "outputs": [],
   "source": [
    "dat = dat.rename(columns={'Unnamed: 0': 'Id'})\n",
    "dat = dat.drop(labels = [\"salary\", \"salary_currency\", \"work_year\", \"employee_residence\", \"remote_ratio\", \"job_title\", \"company_location\"], axis = 1)"
   ]
  },
  {
   "cell_type": "code",
   "execution_count": 72,
   "metadata": {},
   "outputs": [],
   "source": [
    "# removes non full time workers\n",
    "#dat.employment_type.unique()\n",
    "dat = dat[dat.employment_type == \"FT\"]\n",
    "dat = dat.drop(labels = [\"employment_type\"], axis = 1)"
   ]
  },
  {
   "cell_type": "code",
   "execution_count": 73,
   "metadata": {},
   "outputs": [
    {
     "name": "stdout",
     "output_type": "stream",
     "text": [
      "Index(['Id', 'experience_level', 'salary_in_usd', 'company_size'], dtype='object')\n"
     ]
    }
   ],
   "source": [
    "print(dat.columns)\n"
   ]
  },
  {
   "cell_type": "code",
   "execution_count": 74,
   "metadata": {},
   "outputs": [],
   "source": [
    "dat2 = pd.get_dummies(dat, columns = [\"experience_level\", \"company_size\"])"
   ]
  },
  {
   "cell_type": "code",
   "execution_count": 75,
   "metadata": {},
   "outputs": [
    {
     "name": "stdout",
     "output_type": "stream",
     "text": [
      "Index(['Id', 'salary_in_usd', 'experience_level_EN', 'experience_level_EX',\n",
      "       'experience_level_MI', 'experience_level_SE', 'company_size_L',\n",
      "       'company_size_M', 'company_size_S'],\n",
      "      dtype='object')\n"
     ]
    }
   ],
   "source": [
    "print(dat2.columns)"
   ]
  },
  {
   "cell_type": "code",
   "execution_count": 76,
   "metadata": {},
   "outputs": [
    {
     "name": "stdout",
     "output_type": "stream",
     "text": [
      "588\n"
     ]
    }
   ],
   "source": [
    "n = len(dat2)\n",
    "print(n)\n"
   ]
  },
  {
   "cell_type": "code",
   "execution_count": 77,
   "metadata": {},
   "outputs": [],
   "source": [
    "ntrain = 450\n",
    "ntest = n-ntrain"
   ]
  },
  {
   "cell_type": "code",
   "execution_count": 79,
   "metadata": {},
   "outputs": [
    {
     "data": {
      "text/plain": [
       "0       79833\n",
       "1      260000\n",
       "2      109024\n",
       "3       20000\n",
       "4      150000\n",
       "        ...  \n",
       "602    154000\n",
       "603    126000\n",
       "604    129000\n",
       "605    150000\n",
       "606    200000\n",
       "Name: salary_in_usd, Length: 588, dtype: int64"
      ]
     },
     "execution_count": 79,
     "metadata": {},
     "output_type": "execute_result"
    }
   ],
   "source": [
    "y = dat2.salary_in_usd\n",
    "y"
   ]
  },
  {
   "cell_type": "code",
   "execution_count": 81,
   "metadata": {},
   "outputs": [
    {
     "data": {
      "text/html": [
       "<div>\n",
       "<style scoped>\n",
       "    .dataframe tbody tr th:only-of-type {\n",
       "        vertical-align: middle;\n",
       "    }\n",
       "\n",
       "    .dataframe tbody tr th {\n",
       "        vertical-align: top;\n",
       "    }\n",
       "\n",
       "    .dataframe thead th {\n",
       "        text-align: right;\n",
       "    }\n",
       "</style>\n",
       "<table border=\"1\" class=\"dataframe\">\n",
       "  <thead>\n",
       "    <tr style=\"text-align: right;\">\n",
       "      <th></th>\n",
       "      <th>experience_level_EN</th>\n",
       "      <th>experience_level_EX</th>\n",
       "      <th>experience_level_MI</th>\n",
       "      <th>experience_level_SE</th>\n",
       "      <th>company_size_L</th>\n",
       "      <th>company_size_M</th>\n",
       "      <th>company_size_S</th>\n",
       "    </tr>\n",
       "  </thead>\n",
       "  <tbody>\n",
       "    <tr>\n",
       "      <th>0</th>\n",
       "      <td>0</td>\n",
       "      <td>0</td>\n",
       "      <td>1</td>\n",
       "      <td>0</td>\n",
       "      <td>1</td>\n",
       "      <td>0</td>\n",
       "      <td>0</td>\n",
       "    </tr>\n",
       "    <tr>\n",
       "      <th>1</th>\n",
       "      <td>0</td>\n",
       "      <td>0</td>\n",
       "      <td>0</td>\n",
       "      <td>1</td>\n",
       "      <td>0</td>\n",
       "      <td>0</td>\n",
       "      <td>1</td>\n",
       "    </tr>\n",
       "    <tr>\n",
       "      <th>2</th>\n",
       "      <td>0</td>\n",
       "      <td>0</td>\n",
       "      <td>0</td>\n",
       "      <td>1</td>\n",
       "      <td>0</td>\n",
       "      <td>1</td>\n",
       "      <td>0</td>\n",
       "    </tr>\n",
       "    <tr>\n",
       "      <th>3</th>\n",
       "      <td>0</td>\n",
       "      <td>0</td>\n",
       "      <td>1</td>\n",
       "      <td>0</td>\n",
       "      <td>0</td>\n",
       "      <td>0</td>\n",
       "      <td>1</td>\n",
       "    </tr>\n",
       "    <tr>\n",
       "      <th>4</th>\n",
       "      <td>0</td>\n",
       "      <td>0</td>\n",
       "      <td>0</td>\n",
       "      <td>1</td>\n",
       "      <td>1</td>\n",
       "      <td>0</td>\n",
       "      <td>0</td>\n",
       "    </tr>\n",
       "    <tr>\n",
       "      <th>...</th>\n",
       "      <td>...</td>\n",
       "      <td>...</td>\n",
       "      <td>...</td>\n",
       "      <td>...</td>\n",
       "      <td>...</td>\n",
       "      <td>...</td>\n",
       "      <td>...</td>\n",
       "    </tr>\n",
       "    <tr>\n",
       "      <th>602</th>\n",
       "      <td>0</td>\n",
       "      <td>0</td>\n",
       "      <td>0</td>\n",
       "      <td>1</td>\n",
       "      <td>0</td>\n",
       "      <td>1</td>\n",
       "      <td>0</td>\n",
       "    </tr>\n",
       "    <tr>\n",
       "      <th>603</th>\n",
       "      <td>0</td>\n",
       "      <td>0</td>\n",
       "      <td>0</td>\n",
       "      <td>1</td>\n",
       "      <td>0</td>\n",
       "      <td>1</td>\n",
       "      <td>0</td>\n",
       "    </tr>\n",
       "    <tr>\n",
       "      <th>604</th>\n",
       "      <td>0</td>\n",
       "      <td>0</td>\n",
       "      <td>0</td>\n",
       "      <td>1</td>\n",
       "      <td>0</td>\n",
       "      <td>1</td>\n",
       "      <td>0</td>\n",
       "    </tr>\n",
       "    <tr>\n",
       "      <th>605</th>\n",
       "      <td>0</td>\n",
       "      <td>0</td>\n",
       "      <td>0</td>\n",
       "      <td>1</td>\n",
       "      <td>0</td>\n",
       "      <td>1</td>\n",
       "      <td>0</td>\n",
       "    </tr>\n",
       "    <tr>\n",
       "      <th>606</th>\n",
       "      <td>0</td>\n",
       "      <td>0</td>\n",
       "      <td>1</td>\n",
       "      <td>0</td>\n",
       "      <td>1</td>\n",
       "      <td>0</td>\n",
       "      <td>0</td>\n",
       "    </tr>\n",
       "  </tbody>\n",
       "</table>\n",
       "<p>588 rows × 7 columns</p>\n",
       "</div>"
      ],
      "text/plain": [
       "     experience_level_EN  experience_level_EX  experience_level_MI  \\\n",
       "0                      0                    0                    1   \n",
       "1                      0                    0                    0   \n",
       "2                      0                    0                    0   \n",
       "3                      0                    0                    1   \n",
       "4                      0                    0                    0   \n",
       "..                   ...                  ...                  ...   \n",
       "602                    0                    0                    0   \n",
       "603                    0                    0                    0   \n",
       "604                    0                    0                    0   \n",
       "605                    0                    0                    0   \n",
       "606                    0                    0                    1   \n",
       "\n",
       "     experience_level_SE  company_size_L  company_size_M  company_size_S  \n",
       "0                      0               1               0               0  \n",
       "1                      1               0               0               1  \n",
       "2                      1               0               1               0  \n",
       "3                      0               0               0               1  \n",
       "4                      1               1               0               0  \n",
       "..                   ...             ...             ...             ...  \n",
       "602                    1               0               1               0  \n",
       "603                    1               0               1               0  \n",
       "604                    1               0               1               0  \n",
       "605                    1               0               1               0  \n",
       "606                    0               1               0               0  \n",
       "\n",
       "[588 rows x 7 columns]"
      ]
     },
     "execution_count": 81,
     "metadata": {},
     "output_type": "execute_result"
    }
   ],
   "source": [
    "x = dat2.drop(labels = [\"salary_in_usd\", \"Id\"], axis = 1)\n",
    "x"
   ]
  },
  {
   "cell_type": "code",
   "execution_count": 130,
   "metadata": {},
   "outputs": [],
   "source": [
    "y_train = y.iloc[:ntrain]\n",
    "y_test = y.iloc[ntrain:]\n",
    "x_train = x.iloc[:ntrain]\n",
    "x_test = x.iloc[ntrain:]\n"
   ]
  },
  {
   "cell_type": "code",
   "execution_count": 134,
   "metadata": {},
   "outputs": [
    {
     "name": "stdout",
     "output_type": "stream",
     "text": [
      "Epoch 1/10\n",
      "450/450 [==============================] - 1s 897us/step - loss: 8461708288.0000 - mse: 8461708288.0000\n",
      "Epoch 2/10\n",
      "450/450 [==============================] - 0s 926us/step - loss: 4210781440.0000 - mse: 4210781440.0000\n",
      "Epoch 3/10\n",
      "450/450 [==============================] - 1s 1ms/step - loss: 4006602752.0000 - mse: 4006602752.0000\n",
      "Epoch 4/10\n",
      "450/450 [==============================] - 0s 875us/step - loss: 3914362880.0000 - mse: 3914362880.0000\n",
      "Epoch 5/10\n",
      "450/450 [==============================] - 0s 800us/step - loss: 3868161792.0000 - mse: 3868161792.0000\n",
      "Epoch 6/10\n",
      "450/450 [==============================] - 0s 822us/step - loss: 3844359424.0000 - mse: 3844359424.0000\n",
      "Epoch 7/10\n",
      "450/450 [==============================] - 0s 775us/step - loss: 3771763968.0000 - mse: 3771763968.0000\n",
      "Epoch 8/10\n",
      "450/450 [==============================] - 0s 833us/step - loss: 3793710592.0000 - mse: 3793710592.0000\n",
      "Epoch 9/10\n",
      "450/450 [==============================] - 0s 984us/step - loss: 3779839488.0000 - mse: 3779839488.0000\n",
      "Epoch 10/10\n",
      "450/450 [==============================] - 0s 859us/step - loss: 3751041536.0000 - mse: 3751041536.0000\n"
     ]
    },
    {
     "data": {
      "text/plain": [
       "<keras.callbacks.History at 0x28dfaebffd0>"
      ]
     },
     "execution_count": 134,
     "metadata": {},
     "output_type": "execute_result"
    }
   ],
   "source": [
    "model = tf.keras.models.Sequential([\n",
    "  tf.keras.layers.Flatten(input_shape=(7,)),\n",
    "  tf.keras.layers.Dense(20, activation = \"ReLU\"),\n",
    "  tf.keras.layers.Dense(1)\n",
    "])\n",
    "\n",
    "model.compile(optimizer=tf.keras.optimizers.Adam(learning_rate=0.2),\n",
    "              loss=tf.keras.losses.mse,\n",
    "              metrics=['mse'])\n",
    "\n",
    "model.fit(x_train, y_train, batch_size = 10, epochs = 10)"
   ]
  },
  {
   "cell_type": "code",
   "execution_count": 126,
   "metadata": {},
   "outputs": [],
   "source": []
  },
  {
   "cell_type": "code",
   "execution_count": 125,
   "metadata": {},
   "outputs": [
    {
     "name": "stdout",
     "output_type": "stream",
     "text": [
      "Epoch 1/40\n",
      "45/45 [==============================] - 0s 1ms/step - loss: 107562.7578 - mae: 107562.7578\n",
      "Epoch 2/40\n",
      "45/45 [==============================] - 0s 1ms/step - loss: 107561.0078 - mae: 107561.0078\n",
      "Epoch 3/40\n",
      "45/45 [==============================] - 0s 1ms/step - loss: 107556.6250 - mae: 107556.6250\n",
      "Epoch 4/40\n",
      "45/45 [==============================] - 0s 1ms/step - loss: 107543.4453 - mae: 107543.4453\n",
      "Epoch 5/40\n",
      "45/45 [==============================] - 0s 1ms/step - loss: 107502.1016 - mae: 107502.1016\n",
      "Epoch 6/40\n",
      "45/45 [==============================] - 0s 907us/step - loss: 107368.9688 - mae: 107368.9688\n",
      "Epoch 7/40\n",
      "45/45 [==============================] - 0s 703us/step - loss: 106938.3984 - mae: 106938.3984\n",
      "Epoch 8/40\n",
      "45/45 [==============================] - 0s 1ms/step - loss: 105543.7891 - mae: 105543.7891\n",
      "Epoch 9/40\n",
      "45/45 [==============================] - 0s 952us/step - loss: 101115.9297 - mae: 101115.9297\n",
      "Epoch 10/40\n",
      "45/45 [==============================] - 0s 703us/step - loss: 88565.6172 - mae: 88565.6172\n",
      "Epoch 11/40\n",
      "45/45 [==============================] - 0s 1ms/step - loss: 65110.0898 - mae: 65110.0898\n",
      "Epoch 12/40\n",
      "45/45 [==============================] - 0s 952us/step - loss: 49466.1836 - mae: 49466.1836\n",
      "Epoch 13/40\n",
      "45/45 [==============================] - 0s 703us/step - loss: 46243.3203 - mae: 46243.3203\n",
      "Epoch 14/40\n",
      "45/45 [==============================] - 0s 1ms/step - loss: 45231.4961 - mae: 45231.4961\n",
      "Epoch 15/40\n",
      "45/45 [==============================] - 0s 748us/step - loss: 44510.3438 - mae: 44510.3438\n",
      "Epoch 16/40\n",
      "45/45 [==============================] - 0s 1ms/step - loss: 44069.3008 - mae: 44069.3008\n",
      "Epoch 17/40\n",
      "45/45 [==============================] - 0s 1ms/step - loss: 43777.0625 - mae: 43777.0625\n",
      "Epoch 18/40\n",
      "45/45 [==============================] - 0s 1ms/step - loss: 43542.5039 - mae: 43542.5039\n",
      "Epoch 19/40\n",
      "45/45 [==============================] - 0s 1ms/step - loss: 43336.9727 - mae: 43336.9727\n",
      "Epoch 20/40\n",
      "45/45 [==============================] - 0s 1ms/step - loss: 43166.0664 - mae: 43166.0664\n",
      "Epoch 21/40\n",
      "45/45 [==============================] - 0s 748us/step - loss: 42945.1602 - mae: 42945.1602\n",
      "Epoch 22/40\n",
      "45/45 [==============================] - 0s 1ms/step - loss: 42883.8750 - mae: 42883.8750\n",
      "Epoch 23/40\n",
      "45/45 [==============================] - 0s 975us/step - loss: 42761.2227 - mae: 42761.2227\n",
      "Epoch 24/40\n",
      "45/45 [==============================] - 0s 929us/step - loss: 42685.7773 - mae: 42685.7773\n",
      "Epoch 25/40\n",
      "45/45 [==============================] - 0s 997us/step - loss: 42461.7344 - mae: 42461.7344\n",
      "Epoch 26/40\n",
      "45/45 [==============================] - 0s 1ms/step - loss: 42456.3008 - mae: 42456.3008\n",
      "Epoch 27/40\n",
      "45/45 [==============================] - 0s 1ms/step - loss: 42490.9961 - mae: 42490.9961\n",
      "Epoch 28/40\n",
      "45/45 [==============================] - 0s 1ms/step - loss: 42368.9961 - mae: 42368.9961\n",
      "Epoch 29/40\n",
      "45/45 [==============================] - 0s 907us/step - loss: 42330.7852 - mae: 42330.7852\n",
      "Epoch 30/40\n",
      "45/45 [==============================] - 0s 703us/step - loss: 42271.0781 - mae: 42271.0781\n",
      "Epoch 31/40\n",
      "45/45 [==============================] - 0s 962us/step - loss: 42165.0508 - mae: 42165.0508\n",
      "Epoch 32/40\n",
      "45/45 [==============================] - 0s 725us/step - loss: 42145.0664 - mae: 42145.0664\n",
      "Epoch 33/40\n",
      "45/45 [==============================] - 0s 2ms/step - loss: 42103.0742 - mae: 42103.0781\n",
      "Epoch 34/40\n",
      "45/45 [==============================] - 0s 1ms/step - loss: 42088.3672 - mae: 42088.3672\n",
      "Epoch 35/40\n",
      "45/45 [==============================] - 0s 1ms/step - loss: 42032.2773 - mae: 42032.2773\n",
      "Epoch 36/40\n",
      "45/45 [==============================] - 0s 990us/step - loss: 41969.4375 - mae: 41969.4375\n",
      "Epoch 37/40\n",
      "45/45 [==============================] - 0s 680us/step - loss: 41863.9062 - mae: 41863.9062\n",
      "Epoch 38/40\n",
      "45/45 [==============================] - 0s 1ms/step - loss: 41919.8711 - mae: 41919.8711\n",
      "Epoch 39/40\n",
      "45/45 [==============================] - 0s 793us/step - loss: 41817.3086 - mae: 41817.3086\n",
      "Epoch 40/40\n",
      "45/45 [==============================] - 0s 997us/step - loss: 41780.7656 - mae: 41780.7656\n"
     ]
    },
    {
     "data": {
      "text/plain": [
       "<keras.callbacks.History at 0x28df8a48d60>"
      ]
     },
     "execution_count": 125,
     "metadata": {},
     "output_type": "execute_result"
    }
   ],
   "source": [
    "model.fit(x_train, y_train, epochs = 40, batch_size = 10)"
   ]
  }
 ],
 "metadata": {
  "kernelspec": {
   "display_name": "Python 3.10.1 64-bit",
   "language": "python",
   "name": "python3"
  },
  "language_info": {
   "codemirror_mode": {
    "name": "ipython",
    "version": 3
   },
   "file_extension": ".py",
   "mimetype": "text/x-python",
   "name": "python",
   "nbconvert_exporter": "python",
   "pygments_lexer": "ipython3",
   "version": "3.10.1"
  },
  "orig_nbformat": 4,
  "vscode": {
   "interpreter": {
    "hash": "12191f45e8f6af01f45db41093ae73972e7ad546ddd170b19edbed853d715111"
   }
  }
 },
 "nbformat": 4,
 "nbformat_minor": 2
}
